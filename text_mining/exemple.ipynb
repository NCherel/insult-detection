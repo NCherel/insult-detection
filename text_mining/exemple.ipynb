{
 "cells": [
  {
   "cell_type": "code",
   "execution_count": 3,
   "metadata": {
    "collapsed": true
   },
   "outputs": [],
   "source": [
    "from n_gram_creation import compute_ngrams\n",
    "import numpy as np"
   ]
  },
  {
   "cell_type": "code",
   "execution_count": 4,
   "metadata": {
    "collapsed": false
   },
   "outputs": [
    {
     "name": "stdout",
     "output_type": "stream",
     "text": [
      "[['salut' 'comment' 'ca']\n",
      " ['comment' 'ca' 'va']]\n",
      "[['je' 'suis' 'trop']\n",
      " ['suis' 'trop' 'content']\n",
      " ['trop' 'content' 'de']\n",
      " ['content' 'de' 'te']\n",
      " ['de' 'te' 'voir']]\n",
      "[['est' 'ce' 'que']\n",
      " ['ce' 'que' 'tu']\n",
      " ['que' 'tu' 'suces']]\n",
      "[['oui' 'bien' 'sur']]\n",
      "[[['salut' 'comment' 'ca']\n",
      "  ['comment' 'ca' 'va']\n",
      "  ['nan' 'nan' 'nan']\n",
      "  ['nan' 'nan' 'nan']\n",
      "  ['nan' 'nan' 'nan']]\n",
      "\n",
      " [['je' 'suis' 'trop']\n",
      "  ['suis' 'trop' 'content']\n",
      "  ['trop' 'content' 'de']\n",
      "  ['content' 'de' 'te']\n",
      "  ['de' 'te' 'voir']]\n",
      "\n",
      " [['est' 'ce' 'que']\n",
      "  ['ce' 'que' 'tu']\n",
      "  ['que' 'tu' 'suces']\n",
      "  ['nan' 'nan' 'nan']\n",
      "  ['nan' 'nan' 'nan']]\n",
      "\n",
      " [['oui' 'bien' 'sur']\n",
      "  ['nan' 'nan' 'nan']\n",
      "  ['nan' 'nan' 'nan']\n",
      "  ['nan' 'nan' 'nan']\n",
      "  ['nan' 'nan' 'nan']]]\n"
     ]
    }
   ],
   "source": [
    "X = np.array([\"salut comment ca va\",\"je suis trop content de te voir\",\"est ce que tu suces\",\"oui bien sur\"])\n",
    "\n",
    "A = compute_ngrams(X,3)\n",
    "print(A)"
   ]
  },
  {
   "cell_type": "code",
   "execution_count": null,
   "metadata": {
    "collapsed": true
   },
   "outputs": [],
   "source": []
  }
 ],
 "metadata": {
  "kernelspec": {
   "display_name": "Python 2",
   "language": "python",
   "name": "python2"
  },
  "language_info": {
   "codemirror_mode": {
    "name": "ipython",
    "version": 2
   },
   "file_extension": ".py",
   "mimetype": "text/x-python",
   "name": "python",
   "nbconvert_exporter": "python",
   "pygments_lexer": "ipython2",
   "version": "2.7.11"
  }
 },
 "nbformat": 4,
 "nbformat_minor": 0
}
