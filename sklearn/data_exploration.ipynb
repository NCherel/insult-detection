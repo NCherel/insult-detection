{
 "cells": [
  {
   "cell_type": "markdown",
   "metadata": {},
   "source": [
    "# <font color=red> Data Exploration\n",
    "#### This notebook aims to find out useful features \n",
    "### <font color=blue> Rules :\n",
    "#### Since we are a lot contributing to the notebook, please comment your code and use explicit variable names\n",
    "#### Do not modify the raw data as others would like to work on it\n",
    "#### Only modify your section (copy-paste others code if needed) so that no clashes occur when pulling/pushing on remote repository"
   ]
  },
  {
   "cell_type": "markdown",
   "metadata": {},
   "source": [
    "## <font color=green>Hugo"
   ]
  },
  {
   "cell_type": "code",
   "execution_count": 1,
   "metadata": {
    "collapsed": false
   },
   "outputs": [],
   "source": [
    "# Specific imports in your section"
   ]
  },
  {
   "cell_type": "markdown",
   "metadata": {},
   "source": [
    "## <font color=green>Nicolas"
   ]
  },
  {
   "cell_type": "code",
   "execution_count": 2,
   "metadata": {
    "collapsed": true
   },
   "outputs": [],
   "source": [
    "# Specific imports in your section"
   ]
  },
  {
   "cell_type": "markdown",
   "metadata": {},
   "source": [
    "## <font color=green>Mohamed"
   ]
  },
  {
   "cell_type": "code",
   "execution_count": 3,
   "metadata": {
    "collapsed": false
   },
   "outputs": [],
   "source": [
    "import pandas as pd\n",
    "import numpy as np\n",
    "import sklearn as skl\n",
    "import nltk\n",
    "from tokenizer import Tokenizer\n",
    "import seaborn as sns\n",
    "import time\n",
    "import sys\n",
    "sys.path.append('../text_mining')\n",
    "from n_gram_creation import vectorize_n_grams\n",
    "from tfidfvectorizer import TfidfVectorizer"
   ]
  },
  {
   "cell_type": "markdown",
   "metadata": {},
   "source": [
    "#### Getting the data"
   ]
  },
  {
   "cell_type": "code",
   "execution_count": 4,
   "metadata": {
    "collapsed": false
   },
   "outputs": [],
   "source": [
    "train_fname = 'train.csv'\n",
    "#test_fname = 'test.csv'\n",
    "X = pd.read_csv(train_fname,header=None)\n",
    "y = pd.read_csv(train_fname, header=None)[0]\n",
    "#X_test = pd.read_csv(test_fname, header=None)[0]"
   ]
  },
  {
   "cell_type": "code",
   "execution_count": 5,
   "metadata": {
    "collapsed": false
   },
   "outputs": [],
   "source": [
    "X.columns = ['label', 'content']"
   ]
  },
  {
   "cell_type": "code",
   "execution_count": 6,
   "metadata": {
    "collapsed": false
   },
   "outputs": [
    {
     "data": {
      "text/plain": [
       "0    3063\n",
       "1    1352\n",
       "Name: 0, dtype: int64"
      ]
     },
     "execution_count": 6,
     "metadata": {},
     "output_type": "execute_result"
    }
   ],
   "source": [
    "y.value_counts()"
   ]
  },
  {
   "cell_type": "code",
   "execution_count": 7,
   "metadata": {
    "collapsed": false,
    "scrolled": true
   },
   "outputs": [
    {
     "data": {
      "text/plain": [
       "[6, 8, 11, 12, 15, 18, 23, 27, 28, 29]"
      ]
     },
     "execution_count": 7,
     "metadata": {},
     "output_type": "execute_result"
    }
   ],
   "source": [
    "index_1 = [index for index in range(X.shape[0]) if y[index]==1]\n",
    "index_1[0:10]"
   ]
  },
  {
   "cell_type": "markdown",
   "metadata": {},
   "source": [
    "#### Some insulting comments"
   ]
  },
  {
   "cell_type": "code",
   "execution_count": 8,
   "metadata": {
    "collapsed": false
   },
   "outputs": [
    {
     "data": {
      "text/plain": [
       "6     \"who told you that....stupid ask yourself who ...\n",
       "8                             \"You're an idiot baldo. \"\n",
       "11    \"You show your stupidity and ignorance each an...\n",
       "12    \"Wait until you are a minority in your own red...\n",
       "15    \"Its \"faggot\" you ignorant fuck plus what you ...\n",
       "18     \"Get thatdick outta your mouth so you can talk.\"\n",
       "23    \"Judging by your prior posts listed in your pr...\n",
       "27    \"RYAN...........GO BACK TO SUCKING YOUR MOTHER...\n",
       "28                                  \"Your are an idiot\"\n",
       "29    \"Very sorry I mentioned it.\\xa0 Just keep bitc...\n",
       "Name: content, dtype: object"
      ]
     },
     "execution_count": 8,
     "metadata": {},
     "output_type": "execute_result"
    }
   ],
   "source": [
    "X.content[index_1[:10]] # Wow violent lui ... hahaa"
   ]
  },
  {
   "cell_type": "markdown",
   "metadata": {},
   "source": [
    "#### Adding some features"
   ]
  },
  {
   "cell_type": "code",
   "execution_count": 9,
   "metadata": {
    "collapsed": false
   },
   "outputs": [],
   "source": [
    "X['char_count'] = np.array([len(x) for x in X.content])"
   ]
  },
  {
   "cell_type": "code",
   "execution_count": 10,
   "metadata": {
    "collapsed": false
   },
   "outputs": [
    {
     "data": {
      "text/plain": [
       "(4415, 3)"
      ]
     },
     "execution_count": 10,
     "metadata": {},
     "output_type": "execute_result"
    }
   ],
   "source": [
    "X.shape"
   ]
  },
  {
   "cell_type": "code",
   "execution_count": 11,
   "metadata": {
    "collapsed": false,
    "scrolled": true
   },
   "outputs": [
    {
     "data": {
      "text/html": [
       "<div>\n",
       "<table border=\"1\" class=\"dataframe\">\n",
       "  <thead>\n",
       "    <tr style=\"text-align: right;\">\n",
       "      <th></th>\n",
       "      <th>label</th>\n",
       "      <th>content</th>\n",
       "      <th>char_count</th>\n",
       "    </tr>\n",
       "  </thead>\n",
       "  <tbody>\n",
       "    <tr>\n",
       "      <th>0</th>\n",
       "      <td>0</td>\n",
       "      <td>\"Imagine being able say, you know what, no san...</td>\n",
       "      <td>684</td>\n",
       "    </tr>\n",
       "    <tr>\n",
       "      <th>1</th>\n",
       "      <td>0</td>\n",
       "      <td>\"\"But Jack from Raleigh wasn't done. He came b...</td>\n",
       "      <td>365</td>\n",
       "    </tr>\n",
       "    <tr>\n",
       "      <th>2</th>\n",
       "      <td>0</td>\n",
       "      <td>\"the Star box allows you to link your comment ...</td>\n",
       "      <td>175</td>\n",
       "    </tr>\n",
       "    <tr>\n",
       "      <th>3</th>\n",
       "      <td>0</td>\n",
       "      <td>\"Cheney,Rush,Nugent.The list is endless.\"</td>\n",
       "      <td>41</td>\n",
       "    </tr>\n",
       "    <tr>\n",
       "      <th>4</th>\n",
       "      <td>0</td>\n",
       "      <td>\"Obama....I'm blow'n mo smoke up yo arses........</td>\n",
       "      <td>181</td>\n",
       "    </tr>\n",
       "  </tbody>\n",
       "</table>\n",
       "</div>"
      ],
      "text/plain": [
       "   label                                            content  char_count\n",
       "0      0  \"Imagine being able say, you know what, no san...         684\n",
       "1      0  \"\"But Jack from Raleigh wasn't done. He came b...         365\n",
       "2      0  \"the Star box allows you to link your comment ...         175\n",
       "3      0          \"Cheney,Rush,Nugent.The list is endless.\"          41\n",
       "4      0  \"Obama....I'm blow'n mo smoke up yo arses........         181"
      ]
     },
     "execution_count": 11,
     "metadata": {},
     "output_type": "execute_result"
    }
   ],
   "source": [
    "X.head()"
   ]
  },
  {
   "cell_type": "markdown",
   "metadata": {
    "collapsed": true
   },
   "source": [
    "## Tokenizing Stemming and Cleaning a sentence"
   ]
  },
  {
   "cell_type": "code",
   "execution_count": 12,
   "metadata": {
    "collapsed": false
   },
   "outputs": [],
   "source": [
    "# To Keep updated\n",
    "TOKENS = [\n",
    "    ### Replacements first ###\n",
    "    ('BREAK'        , r\"\\\\n\", r\" \"),\n",
    "    ('SLASH'           , r\"\\/+\", r\" \"),\n",
    "    ('WHITE_SPACE'     , r\"(\\\\\\\\xc2|\\\\\\\\xa0|\\\\xa0|\\\\xa1|\\\\xa3|\\\\xa9|\\\\r|\\\\ufeff|\\\\u2013|\\\\u2016|\\\\u200f|\\\\u2665|\\\\U0001f308|\\\\U0001f3e9|\\\\U0001f48b|\\\\\\\\|\\\\|&nbsp|&amp|=|\\\"\\\"|\\\"|\\\\u2018|\\\\u2019)\", r\" \"),\n",
    "    ('LETTER_A'        , r\"(\\\\xe1|\\\\xe3|\\\\xe0|\\\\xc2|\\\\u1ef1|\\\\u0105|\\\\u1eb7|\\\\xe5|\\\\xe4)\", r\"a\"),\n",
    "    ('LETTER_E'        , r\"(\\\\xe9|\\\\xe8|\\\\u1ec3|\\\\u1ec5|\\\\u1ebf|\\\\u0119)\", r\"e\"),\n",
    "    ('LETTER_I'        , r\"(\\\\xed)\", r\"i\"),\n",
    "    ('LETTER_O'        , r\"(\\\\x00|\\\\xf8|\\\\xf6|\\\\xf3)\", r\"o\"),\n",
    "    ('LETTER_U'        , r\"(\\\\xfa|\\\\xdc|\\\\xfc|\\\\u1ee9|\\\\u0169)\", r\"u\"),\n",
    "    ('LETTER_Y'        , r\"(\\\\xfd)\", r\"u\"),\n",
    "    ('LETTER_C'        , r\"(\\\\xe7|\\\\u0107)\", r\"c\"),\n",
    "    ('LETTER_Z'        , r\"(\\\\u017a|\\\\u017e|\\\\u017c)\", r\"z\"),\n",
    "    ('PONCT_!'        , r\"(\\\\u203d)\", r\"!\"),\n",
    "    ### Tokens ###\n",
    "    ('NOT'             , r\"n\\'t\", r\" not \"),\n",
    "    ('PUNCT'      , r\"(!+|\\?+|\\.+)\", r\" \\1 \"),\n",
    "    ('NIL'          , r\"\\'|,\", r\" \"),\n",
    "    ('SMILEY'       , r\"(\\:\\w+\\:|\\<[\\/\\\\]?3|[\\(\\)\\\\\\D|\\*\\$][\\-\\^]?[\\:\\;\\=]|[\\:\\;\\=B8][\\-\\^]?[3DOPp\\@\\$\\*\\\\\\)\\(\\/\\|])(?=\\s|[\\!\\.\\?]|$)|xD|XD\", r\" smiley \"),\n",
    "    ('PUNCT'      , r\"(;+|\\,+|\\)+|\\(+)|\\-|\\_\", r\" \"),\n",
    "    ('ALONE'        , r\"\\s[a-hj-zA-HJ-Z]\\s\", r\" \"), # delete all lone letters except I&i\n",
    "    ('DOTS'         , r\"\\.+\", r\" \"),\n",
    "#    ('QUOTE'      , r\"(\\\"|\\')+(\\w+)(\\\"|\\')+\", \"QUOTE\"), # A améliorer pour mettre la citation entre deux <QUOTE>\n",
    "    ('BEGIN_WHITESPACE' , r\"^\\s+\", r\"\"),\n",
    "    ('END_WHITESPACE' , r\"\\s+$\", r\"\"),\n",
    "    ('WHITESPACES' , r\"\\s+\", r\" \")\n",
    "]\n",
    "\n",
    "# Ca déconne\n",
    "INSULTS = [\n",
    "    ### Insults Replacment ###\n",
    "    ('FUCK'    , r\"f(.ck|u.k|uc.)(i?ng*)?\", r\" fuck \"),# fuck/fucking style\n",
    "    ('FUCK_2'    , r\"fuck((\\s)?you|.?er)+\", r\" fuck you \"),#fuck you + fuck your XXXer\n",
    "    ('FUCK_3'    , r\"(\\w?-)fucker\", r\" mother fuck \"),# compouned fuck # mother fuck plutot ?\n",
    "    # Replace above regex \"mother fuck\" by \"you fuck\" since personal insult ?\n",
    "    ('ASSHOLE',  r\"a.{1,3}oles?\", r\" asshole \"),# ass hole and its versions\n",
    "    ('STALK',  r\"stalk(in*g*|ers?)?\", r\" stalk \"),\n",
    "    ('STUPID',  r\"(\\$|s)tupi?d\", r\" stupid \"),\n",
    "    ('SHIT',  r\"sh(itty|it)\", r\" shit \"),\n",
    "    ('NIGGA',  r\" nigg | negro \", r\" nigga \"),\n",
    "    ('BEGIN_WHITESPACE' , r\"^\\s+\", r\"\"),\n",
    "    ('END_WHITESPACE' , r\"\\s+$\", r\"\"),\n",
    "    ('WHITESPACES' , r\"\\s+\", r\" \")\n",
    "    \n",
    "    ]\n",
    "\n",
    "RANDOM = [\n",
    "    ### Random Replacement ###\n",
    "    ('LAUGH',  r\"\\b(?:a*(?:ha)+h?|(?:l+o+)+l+)\\b\", r\" laugh \"), # matches laughs such as \"hahaha\" or \"lolll\"\n",
    "    ('PSEUDO',  r\"@\\s?\\w+\", r\" pseudo \"),\n",
    "    ('DOLLAR',  r\"[0-9]+k?\\s?\\$+\", r\" dollar \"),\n",
    "    ('DATE',  r\"[0-9]+th(\\s?of)?(\\s\\w+)?\", r\" date \"),# eg : 18th or \"18th of Month\"\n",
    "    ('YEAR',  r\"[0-9]{4}?\", r\" year \"),\n",
    "    ('NUMBER',  r\"[0-9]{1,}\", r\" number \"),\n",
    "    ('LOVE',  r\"<3\", r\" love \"),\n",
    "    ('URL',  r\"(http:)?(\\/\\/)?((www\\.)?\\w+\\.\\w+)\\/?(\\w+.\\w+)?\", r\" url \"),\n",
    "    ('BEGIN_WHITESPACE' , r\"^\\s+\", r\"\"),\n",
    "    ('END_WHITESPACE' , r\"\\s+$\", r\"\"),\n",
    "    ('WHITESPACES' , r\"\\s+\", r\" \")\n",
    "]\n"
   ]
  },
  {
   "cell_type": "markdown",
   "metadata": {},
   "source": [
    "# <font color=red>UTILISER LES DEUX DICO AU DESSUS"
   ]
  },
  {
   "cell_type": "code",
   "execution_count": 13,
   "metadata": {
    "collapsed": false
   },
   "outputs": [],
   "source": [
    "myTokenizer = Tokenizer(TOKENS)\n",
    "myReplacer = Tokenizer(RANDOM)\n",
    "myReplacer2 = Tokenizer(INSULTS)"
   ]
  },
  {
   "cell_type": "code",
   "execution_count": 14,
   "metadata": {
    "collapsed": false
   },
   "outputs": [
    {
     "name": "stdout",
     "output_type": "stream",
     "text": [
      "\"Stick to Santorum.  Your obsession with his wife makes you look like an ass.\\\\n\\\\nThere is plenty to pick on with him.  He is as big a freak as you are\"\n",
      "stick to santorum your obsess with his wife make you look like an ass there is plenti to pick on with him he is as big freak as you are\n"
     ]
    }
   ],
   "source": [
    "input = X.content.values[1055]\n",
    "print(input)\n",
    "tokens = myTokenizer.tokenize(input)\n",
    "new_string = myTokenizer.reconstruct(tokens)\n",
    "output = myReplacer.tokenize(new_string)\n",
    "new_string = myReplacer.reconstruct(output)\n",
    "output = myReplacer2.tokenize(new_string)\n",
    "print(myReplacer2.reconstruct(output))"
   ]
  },
  {
   "cell_type": "markdown",
   "metadata": {},
   "source": [
    "## Tokenizing Stemming and Cleaning the DataSet"
   ]
  },
  {
   "cell_type": "code",
   "execution_count": 15,
   "metadata": {
    "collapsed": false,
    "scrolled": true
   },
   "outputs": [],
   "source": [
    "X_list = X.content.values"
   ]
  },
  {
   "cell_type": "code",
   "execution_count": 16,
   "metadata": {
    "collapsed": false
   },
   "outputs": [],
   "source": [
    "new_X_list = []\n",
    "for input in X_list:\n",
    "    tokens = myTokenizer.tokenize(input)\n",
    "    new_string = myTokenizer.reconstruct(tokens)\n",
    "    output = myReplacer.tokenize(new_string)\n",
    "    new_string = myReplacer.reconstruct(output)\n",
    "    output = myReplacer2.tokenize(new_string)\n",
    "    new_string = myReplacer2.reconstruct(output)\n",
    "    new_X_list.append(new_string)"
   ]
  },
  {
   "cell_type": "code",
   "execution_count": 17,
   "metadata": {
    "collapsed": false
   },
   "outputs": [
    {
     "data": {
      "text/plain": [
       "['imagin being abl say you know what no sanction no forev hear on ieaa regul no more hide under the preten of friend nuclear energi you have number day smiley i let in the inspector quit kill the civilian respect the border and right of your neighbor countri or we whoever we are will shut off your nuclear plant your monitor system and whatev el we fanci like your water treatment plant and ear warn sandstorm system and the traffic light of all major citi and yes pinki finger to lip edg so your teenag revolt and toppl your regim disconnect facebook buwhahjahahaha',\n",
       " 'but jack from raleigh was not done he came back with this bit of furious grammat geniu smiley holi hell jack calm down god d pseudo hilari ! who write your materi grazid ? mm never even acknowledg we were here well accept when uber tick him off grazid not only interact with us he call you dumb when you re being dumb right beeaner ?',\n",
       " 'the star box allow you to link your comment to facebook and twitter you can go to your profil and chang set if you click back on yellow star it will return to grey',\n",
       " 'cheney rush nugent the list is endless',\n",
       " 'obama i blow mo smoke up yo ar anyon wonder why the dem as such sheep it must be some dna thing not to be abl to do simpl math i just do not get it']"
      ]
     },
     "execution_count": 17,
     "metadata": {},
     "output_type": "execute_result"
    }
   ],
   "source": [
    "new_X_list[:5]"
   ]
  },
  {
   "cell_type": "code",
   "execution_count": 18,
   "metadata": {
    "collapsed": false
   },
   "outputs": [],
   "source": [
    "assert len(X_list) == len(new_X_list)"
   ]
  },
  {
   "cell_type": "code",
   "execution_count": 19,
   "metadata": {
    "collapsed": false
   },
   "outputs": [],
   "source": [
    "X_new = np.asarray(new_X_list)"
   ]
  },
  {
   "cell_type": "code",
   "execution_count": 20,
   "metadata": {
    "collapsed": false
   },
   "outputs": [
    {
     "data": {
      "text/plain": [
       "(4415,)"
      ]
     },
     "execution_count": 20,
     "metadata": {},
     "output_type": "execute_result"
    }
   ],
   "source": [
    "X_new.shape"
   ]
  },
  {
   "cell_type": "code",
   "execution_count": 21,
   "metadata": {
    "collapsed": true
   },
   "outputs": [],
   "source": [
    "X['processed'] = X_new"
   ]
  },
  {
   "cell_type": "code",
   "execution_count": 22,
   "metadata": {
    "collapsed": false,
    "scrolled": true
   },
   "outputs": [
    {
     "data": {
      "text/html": [
       "<div>\n",
       "<table border=\"1\" class=\"dataframe\">\n",
       "  <thead>\n",
       "    <tr style=\"text-align: right;\">\n",
       "      <th></th>\n",
       "      <th>label</th>\n",
       "      <th>content</th>\n",
       "      <th>char_count</th>\n",
       "      <th>processed</th>\n",
       "    </tr>\n",
       "  </thead>\n",
       "  <tbody>\n",
       "    <tr>\n",
       "      <th>0</th>\n",
       "      <td>0</td>\n",
       "      <td>\"Imagine being able say, you know what, no san...</td>\n",
       "      <td>684</td>\n",
       "      <td>imagin being abl say you know what no sanction...</td>\n",
       "    </tr>\n",
       "    <tr>\n",
       "      <th>1</th>\n",
       "      <td>0</td>\n",
       "      <td>\"\"But Jack from Raleigh wasn't done. He came b...</td>\n",
       "      <td>365</td>\n",
       "      <td>but jack from raleigh was not done he came bac...</td>\n",
       "    </tr>\n",
       "    <tr>\n",
       "      <th>2</th>\n",
       "      <td>0</td>\n",
       "      <td>\"the Star box allows you to link your comment ...</td>\n",
       "      <td>175</td>\n",
       "      <td>the star box allow you to link your comment to...</td>\n",
       "    </tr>\n",
       "    <tr>\n",
       "      <th>3</th>\n",
       "      <td>0</td>\n",
       "      <td>\"Cheney,Rush,Nugent.The list is endless.\"</td>\n",
       "      <td>41</td>\n",
       "      <td>cheney rush nugent the list is endless</td>\n",
       "    </tr>\n",
       "    <tr>\n",
       "      <th>4</th>\n",
       "      <td>0</td>\n",
       "      <td>\"Obama....I'm blow'n mo smoke up yo arses........</td>\n",
       "      <td>181</td>\n",
       "      <td>obama i blow mo smoke up yo ar anyon wonder wh...</td>\n",
       "    </tr>\n",
       "  </tbody>\n",
       "</table>\n",
       "</div>"
      ],
      "text/plain": [
       "   label                                            content  char_count  \\\n",
       "0      0  \"Imagine being able say, you know what, no san...         684   \n",
       "1      0  \"\"But Jack from Raleigh wasn't done. He came b...         365   \n",
       "2      0  \"the Star box allows you to link your comment ...         175   \n",
       "3      0          \"Cheney,Rush,Nugent.The list is endless.\"          41   \n",
       "4      0  \"Obama....I'm blow'n mo smoke up yo arses........         181   \n",
       "\n",
       "                                           processed  \n",
       "0  imagin being abl say you know what no sanction...  \n",
       "1  but jack from raleigh was not done he came bac...  \n",
       "2  the star box allow you to link your comment to...  \n",
       "3             cheney rush nugent the list is endless  \n",
       "4  obama i blow mo smoke up yo ar anyon wonder wh...  "
      ]
     },
     "execution_count": 22,
     "metadata": {},
     "output_type": "execute_result"
    }
   ],
   "source": [
    "X.head()"
   ]
  },
  {
   "cell_type": "markdown",
   "metadata": {},
   "source": [
    "# <font color=red> TF-IDF"
   ]
  },
  {
   "cell_type": "code",
   "execution_count": 23,
   "metadata": {
    "collapsed": true
   },
   "outputs": [],
   "source": [
    "from sklearn import cross_validation"
   ]
  },
  {
   "cell_type": "code",
   "execution_count": 24,
   "metadata": {
    "collapsed": false
   },
   "outputs": [],
   "source": [
    "X_train, X_test, y_train, y_test = cross_validation.train_test_split(X.processed, X.label, test_size=0.4, random_state=0)"
   ]
  },
  {
   "cell_type": "code",
   "execution_count": 25,
   "metadata": {
    "collapsed": true
   },
   "outputs": [],
   "source": [
    "from sklearn.feature_extraction.text import TfidfTransformer\n",
    "from sklearn.feature_extraction.text import CountVectorizer\n",
    "from sklearn.feature_extraction.text import ENGLISH_STOP_WORDS"
   ]
  },
  {
   "cell_type": "code",
   "execution_count": 40,
   "metadata": {
    "collapsed": false
   },
   "outputs": [],
   "source": [
    "count_vect = CountVectorizer(ngram_range=(1,4), analyzer=\"char\")\n",
    "X_train_counts = count_vect.fit_transform(X_train)"
   ]
  },
  {
   "cell_type": "code",
   "execution_count": 27,
   "metadata": {
    "collapsed": true
   },
   "outputs": [],
   "source": [
    "X_train_mycount = vectorize_n_grams(X_train, 4)"
   ]
  },
  {
   "cell_type": "code",
   "execution_count": 28,
   "metadata": {
    "collapsed": false
   },
   "outputs": [
    {
     "name": "stdout",
     "output_type": "stream",
     "text": [
      "(2649, 35208)\n",
      "['i & ' 'oos' 'c g' ..., 'r lu' 'div' 't su']\n"
     ]
    }
   ],
   "source": [
    "print(X_train_mycount[0].shape)\n",
    "print(X_train_mycount[1])"
   ]
  },
  {
   "cell_type": "code",
   "execution_count": 42,
   "metadata": {
    "collapsed": false
   },
   "outputs": [
    {
     "data": {
      "text/plain": [
       "<2649x35252 sparse matrix of type '<class 'numpy.int64'>'\n",
       "\twith 858662 stored elements in Compressed Sparse Row format>"
      ]
     },
     "execution_count": 42,
     "metadata": {},
     "output_type": "execute_result"
    }
   ],
   "source": [
    "X_train_counts"
   ]
  },
  {
   "cell_type": "code",
   "execution_count": 43,
   "metadata": {
    "collapsed": false
   },
   "outputs": [
    {
     "data": {
      "text/plain": [
       "(<2649x35208 sparse matrix of type '<class 'numpy.int64'>'\n",
       " \twith 858618 stored elements in COOrdinate format>,\n",
       " array(['i & ', 'oos', 'c g', ..., 'r lu', 'div', 't su'], \n",
       "       dtype='<U4'))"
      ]
     },
     "execution_count": 43,
     "metadata": {},
     "output_type": "execute_result"
    }
   ],
   "source": [
    "X_train_mycount"
   ]
  },
  {
   "cell_type": "code",
   "execution_count": 30,
   "metadata": {
    "collapsed": true
   },
   "outputs": [],
   "source": [
    "tf_transformer = TfidfTransformer(use_idf=True).fit(X_train_counts)\n",
    "X_train_tf = tf_transformer.transform(X_train_counts)"
   ]
  },
  {
   "cell_type": "code",
   "execution_count": 31,
   "metadata": {
    "collapsed": true
   },
   "outputs": [],
   "source": [
    "my_tf = TfidfVectorizer()\n",
    "X_train_mytf = my_tf.transform(X_train_mycount[0])"
   ]
  },
  {
   "cell_type": "code",
   "execution_count": 32,
   "metadata": {
    "collapsed": false,
    "scrolled": true
   },
   "outputs": [
    {
     "data": {
      "text/plain": [
       "(2649, 105496)"
      ]
     },
     "execution_count": 32,
     "metadata": {},
     "output_type": "execute_result"
    }
   ],
   "source": [
    "X_train_tf.shape"
   ]
  },
  {
   "cell_type": "code",
   "execution_count": 36,
   "metadata": {
    "collapsed": false
   },
   "outputs": [
    {
     "data": {
      "text/plain": [
       "GridSearchCV(cv=3, error_score='raise',\n",
       "       estimator=LogisticRegression(C=1.0, class_weight=None, dual=False, fit_intercept=True,\n",
       "          intercept_scaling=1, max_iter=100, multi_class='ovr', n_jobs=1,\n",
       "          penalty='l2', random_state=None, solver='liblinear', tol=0.0001,\n",
       "          verbose=0, warm_start=False),\n",
       "       fit_params={}, iid=True, n_jobs=1,\n",
       "       param_grid={'C': [0.001, 0.01, 0.1, 1, 5]}, pre_dispatch='2*n_jobs',\n",
       "       refit=True, scoring=None, verbose=0)"
      ]
     },
     "execution_count": 36,
     "metadata": {},
     "output_type": "execute_result"
    }
   ],
   "source": [
    "from sklearn.grid_search import GridSearchCV\n",
    "from sklearn.linear_model import LogisticRegression\n",
    "logreg = LogisticRegression()\n",
    "params = {'C':[0.001, 0.01, 0.1, 1, 5]}\n",
    "grid = GridSearchCV(logreg, params, cv=3)\n",
    "grid.fit(X_train_mytf, y_train)"
   ]
  },
  {
   "cell_type": "code",
   "execution_count": 37,
   "metadata": {
    "collapsed": false
   },
   "outputs": [
    {
     "data": {
      "text/plain": [
       "({'C': 0.001}, 0.80067950169875424)"
      ]
     },
     "execution_count": 37,
     "metadata": {},
     "output_type": "execute_result"
    }
   ],
   "source": [
    "grid.best_params_, grid.best_score_"
   ]
  },
  {
   "cell_type": "code",
   "execution_count": 38,
   "metadata": {
    "collapsed": false
   },
   "outputs": [
    {
     "ename": "AttributeError",
     "evalue": "'tuple' object has no attribute 'shape'",
     "output_type": "error",
     "traceback": [
      "\u001b[0;31m---------------------------------------------------------------------------\u001b[0m",
      "\u001b[0;31mAttributeError\u001b[0m                            Traceback (most recent call last)",
      "\u001b[0;32m<ipython-input-38-cdc3a7de42ff>\u001b[0m in \u001b[0;36m<module>\u001b[0;34m()\u001b[0m\n\u001b[1;32m      1\u001b[0m \u001b[0mX_test_counts\u001b[0m \u001b[0;34m=\u001b[0m \u001b[0mvectorize_n_grams\u001b[0m\u001b[0;34m(\u001b[0m\u001b[0mX_test\u001b[0m\u001b[0;34m,\u001b[0m \u001b[0;36m4\u001b[0m\u001b[0;34m)\u001b[0m\u001b[0;34m\u001b[0m\u001b[0m\n\u001b[0;32m----> 2\u001b[0;31m \u001b[0mX_test_tf\u001b[0m \u001b[0;34m=\u001b[0m \u001b[0mmy_tf\u001b[0m\u001b[0;34m.\u001b[0m\u001b[0mtransform\u001b[0m\u001b[0;34m(\u001b[0m\u001b[0mX_test_counts\u001b[0m\u001b[0;34m)\u001b[0m\u001b[0;34m\u001b[0m\u001b[0m\n\u001b[0m\u001b[1;32m      3\u001b[0m \u001b[0my_pred\u001b[0m \u001b[0;34m=\u001b[0m  \u001b[0mgrid\u001b[0m\u001b[0;34m.\u001b[0m\u001b[0mbest_estimator_\u001b[0m\u001b[0;34m.\u001b[0m\u001b[0mpredict\u001b[0m\u001b[0;34m(\u001b[0m\u001b[0mX_test_tf\u001b[0m\u001b[0;34m)\u001b[0m\u001b[0;34m\u001b[0m\u001b[0m\n\u001b[1;32m      4\u001b[0m \u001b[0mnp\u001b[0m\u001b[0;34m.\u001b[0m\u001b[0msum\u001b[0m\u001b[0;34m(\u001b[0m\u001b[0my_test\u001b[0m \u001b[0;34m==\u001b[0m \u001b[0my_pred\u001b[0m\u001b[0;34m)\u001b[0m\u001b[0;34m/\u001b[0m\u001b[0mfloat\u001b[0m\u001b[0;34m(\u001b[0m\u001b[0mlen\u001b[0m\u001b[0;34m(\u001b[0m\u001b[0my_test\u001b[0m\u001b[0;34m)\u001b[0m\u001b[0;34m)\u001b[0m\u001b[0;34m\u001b[0m\u001b[0m\n",
      "\u001b[0;32m/Users/mohamedmf/repos/sd207/text_mining/tfidfvectorizer.py\u001b[0m in \u001b[0;36mtransform\u001b[0;34m(self, X)\u001b[0m\n\u001b[1;32m     23\u001b[0m         \"\"\" Return the tf-idf matrice taking count sparse matrice as X\n\u001b[1;32m     24\u001b[0m         \"\"\"\n\u001b[0;32m---> 25\u001b[0;31m         \u001b[0mresult\u001b[0m \u001b[0;34m=\u001b[0m \u001b[0mnp\u001b[0m\u001b[0;34m.\u001b[0m\u001b[0mndarray\u001b[0m\u001b[0;34m(\u001b[0m\u001b[0mX\u001b[0m\u001b[0;34m.\u001b[0m\u001b[0mshape\u001b[0m\u001b[0;34m)\u001b[0m\u001b[0;34m\u001b[0m\u001b[0m\n\u001b[0m\u001b[1;32m     26\u001b[0m         \u001b[0mX\u001b[0m \u001b[0;34m=\u001b[0m \u001b[0mX\u001b[0m\u001b[0;34m.\u001b[0m\u001b[0mtodense\u001b[0m\u001b[0;34m(\u001b[0m\u001b[0;34m)\u001b[0m\u001b[0;34m\u001b[0m\u001b[0m\n\u001b[1;32m     27\u001b[0m         \u001b[0mn_samples\u001b[0m \u001b[0;34m=\u001b[0m \u001b[0mX\u001b[0m\u001b[0;34m.\u001b[0m\u001b[0mshape\u001b[0m\u001b[0;34m[\u001b[0m\u001b[0;36m0\u001b[0m\u001b[0;34m]\u001b[0m\u001b[0;34m\u001b[0m\u001b[0m\n",
      "\u001b[0;31mAttributeError\u001b[0m: 'tuple' object has no attribute 'shape'"
     ]
    }
   ],
   "source": [
    "X_test_counts = vectorize_n_grams(X_test, 4)"
   ]
  },
  {
   "cell_type": "code",
   "execution_count": 39,
   "metadata": {
    "collapsed": false
   },
   "outputs": [
    {
     "ename": "ValueError",
     "evalue": "X has 30446 features per sample; expecting 35208",
     "output_type": "error",
     "traceback": [
      "\u001b[0;31m---------------------------------------------------------------------------\u001b[0m",
      "\u001b[0;31mValueError\u001b[0m                                Traceback (most recent call last)",
      "\u001b[0;32m<ipython-input-39-612970afc6e7>\u001b[0m in \u001b[0;36m<module>\u001b[0;34m()\u001b[0m\n\u001b[1;32m      1\u001b[0m \u001b[0mX_test_tf\u001b[0m \u001b[0;34m=\u001b[0m \u001b[0mmy_tf\u001b[0m\u001b[0;34m.\u001b[0m\u001b[0mtransform\u001b[0m\u001b[0;34m(\u001b[0m\u001b[0mX_test_counts\u001b[0m\u001b[0;34m[\u001b[0m\u001b[0;36m0\u001b[0m\u001b[0;34m]\u001b[0m\u001b[0;34m)\u001b[0m\u001b[0;34m\u001b[0m\u001b[0m\n\u001b[0;32m----> 2\u001b[0;31m \u001b[0my_pred\u001b[0m \u001b[0;34m=\u001b[0m  \u001b[0mgrid\u001b[0m\u001b[0;34m.\u001b[0m\u001b[0mbest_estimator_\u001b[0m\u001b[0;34m.\u001b[0m\u001b[0mpredict\u001b[0m\u001b[0;34m(\u001b[0m\u001b[0mX_test_tf\u001b[0m\u001b[0;34m)\u001b[0m\u001b[0;34m\u001b[0m\u001b[0m\n\u001b[0m\u001b[1;32m      3\u001b[0m \u001b[0mnp\u001b[0m\u001b[0;34m.\u001b[0m\u001b[0msum\u001b[0m\u001b[0;34m(\u001b[0m\u001b[0my_test\u001b[0m \u001b[0;34m==\u001b[0m \u001b[0my_pred\u001b[0m\u001b[0;34m)\u001b[0m\u001b[0;34m/\u001b[0m\u001b[0mfloat\u001b[0m\u001b[0;34m(\u001b[0m\u001b[0mlen\u001b[0m\u001b[0;34m(\u001b[0m\u001b[0my_test\u001b[0m\u001b[0;34m)\u001b[0m\u001b[0;34m)\u001b[0m\u001b[0;34m\u001b[0m\u001b[0m\n",
      "\u001b[0;32m/Users/mohamedmf/anaconda/lib/python3.5/site-packages/sklearn/linear_model/base.py\u001b[0m in \u001b[0;36mpredict\u001b[0;34m(self, X)\u001b[0m\n\u001b[1;32m    266\u001b[0m             \u001b[0mPredicted\u001b[0m \u001b[0;32mclass\u001b[0m \u001b[0mlabel\u001b[0m \u001b[0mper\u001b[0m \u001b[0msample\u001b[0m\u001b[0;34m.\u001b[0m\u001b[0;34m\u001b[0m\u001b[0m\n\u001b[1;32m    267\u001b[0m         \"\"\"\n\u001b[0;32m--> 268\u001b[0;31m         \u001b[0mscores\u001b[0m \u001b[0;34m=\u001b[0m \u001b[0mself\u001b[0m\u001b[0;34m.\u001b[0m\u001b[0mdecision_function\u001b[0m\u001b[0;34m(\u001b[0m\u001b[0mX\u001b[0m\u001b[0;34m)\u001b[0m\u001b[0;34m\u001b[0m\u001b[0m\n\u001b[0m\u001b[1;32m    269\u001b[0m         \u001b[0;32mif\u001b[0m \u001b[0mlen\u001b[0m\u001b[0;34m(\u001b[0m\u001b[0mscores\u001b[0m\u001b[0;34m.\u001b[0m\u001b[0mshape\u001b[0m\u001b[0;34m)\u001b[0m \u001b[0;34m==\u001b[0m \u001b[0;36m1\u001b[0m\u001b[0;34m:\u001b[0m\u001b[0;34m\u001b[0m\u001b[0m\n\u001b[1;32m    270\u001b[0m             \u001b[0mindices\u001b[0m \u001b[0;34m=\u001b[0m \u001b[0;34m(\u001b[0m\u001b[0mscores\u001b[0m \u001b[0;34m>\u001b[0m \u001b[0;36m0\u001b[0m\u001b[0;34m)\u001b[0m\u001b[0;34m.\u001b[0m\u001b[0mastype\u001b[0m\u001b[0;34m(\u001b[0m\u001b[0mnp\u001b[0m\u001b[0;34m.\u001b[0m\u001b[0mint\u001b[0m\u001b[0;34m)\u001b[0m\u001b[0;34m\u001b[0m\u001b[0m\n",
      "\u001b[0;32m/Users/mohamedmf/anaconda/lib/python3.5/site-packages/sklearn/linear_model/base.py\u001b[0m in \u001b[0;36mdecision_function\u001b[0;34m(self, X)\u001b[0m\n\u001b[1;32m    247\u001b[0m         \u001b[0;32mif\u001b[0m \u001b[0mX\u001b[0m\u001b[0;34m.\u001b[0m\u001b[0mshape\u001b[0m\u001b[0;34m[\u001b[0m\u001b[0;36m1\u001b[0m\u001b[0;34m]\u001b[0m \u001b[0;34m!=\u001b[0m \u001b[0mn_features\u001b[0m\u001b[0;34m:\u001b[0m\u001b[0;34m\u001b[0m\u001b[0m\n\u001b[1;32m    248\u001b[0m             raise ValueError(\"X has %d features per sample; expecting %d\"\n\u001b[0;32m--> 249\u001b[0;31m                              % (X.shape[1], n_features))\n\u001b[0m\u001b[1;32m    250\u001b[0m \u001b[0;34m\u001b[0m\u001b[0m\n\u001b[1;32m    251\u001b[0m         scores = safe_sparse_dot(X, self.coef_.T,\n",
      "\u001b[0;31mValueError\u001b[0m: X has 30446 features per sample; expecting 35208"
     ]
    }
   ],
   "source": [
    "X_test_tf = my_tf.transform(X_test_counts[0])\n",
    "y_pred =  grid.best_estimator_.predict(X_test_tf)\n",
    "np.sum(y_test == y_pred)/float(len(y_test))"
   ]
  },
  {
   "cell_type": "code",
   "execution_count": 665,
   "metadata": {
    "collapsed": false
   },
   "outputs": [
    {
     "name": "stdout",
     "output_type": "stream",
     "text": [
      "242\n"
     ]
    }
   ],
   "source": [
    "idx = y_test > y_pred\n",
    "print(len(X_test[idx]))\n",
    "X_wrong = X_test[idx]"
   ]
  },
  {
   "cell_type": "code",
   "execution_count": 667,
   "metadata": {
    "collapsed": false,
    "scrolled": false
   },
   "outputs": [
    {
     "name": "stdout",
     "output_type": "stream",
     "text": [
      "that fatass goober let rapist out of prison so he could rape again and this time murder all of the wit fuck you huckab\n",
      "what are you ? homeschool ?\n",
      "not sure if you are joke or just dumb have no knowledg in comic\n",
      "leav it to moron to dump smolder ember into trash bin next to hous\n",
      "read comprehen difficulti i see that okay there are remedi class you can take\n",
      "make your mother stop spread herp\n",
      "why do not your wife blow all off the liber for quarter each and donat the money ????\n",
      "we alreadi have gazillion law on the book to protect consum what obama and the democrat want is to protect consum from stupid choic and the consum own ignor there is come routin out by ron white appropri titl you ca not fix stupid and that appli to mani consum nowaday we could not enact enough law to protect the consum who assum that on month incom of $ number he can afford month mortgag of $ number plus food util etc just like the poor are alway with us so are the less intellig\n",
      "are you just learn english or can you actual put sentenc togeth ?\n",
      "and what happen when bunch of religi fanat defend pedophil ? gee sound like the cathol church ! you are disgust piec of work\n",
      "dave you are soooo full ot it that your eye are brown\n",
      "then do not watch it loser\n",
      "kurius you said everyth that need to be said here i will still add that charl you are pretenti toolbox for think your opinion are remot viabl scoobi you moron dj are musician because they make music just because they do not play an instrument and you do not like the music they produc does not mean damn thing charl and scoobi you fail !\n",
      "you state all this bull shit but no link to where you get your made up fact\n",
      "it has been mention sever time are you accus me of make it up shame on you\n",
      "that is right you dumb fool you have obvious never play high level competit golf both of dufner penalti were from shot that had water short and to the left the caddi need to make sure the player take enough club that he does not forc the shot dufner tend to hit pull draw when he tri to get extra on the shot wake up you fool the caddi need to talk to the player and make sure he play to the right center and hit an easi enough club that he does not forc the shot oh you are too stupid to understand\n",
      "yes his first term is and it on to his number nd time to get the nail out of your brain so that you can think clearer\n",
      "you are wrong besid stupid asshol i was product supervisor in print compani indetroit make number number usd and spent all my life in print now i am number year old and still work part time in printig compani in detroit and never work in liquor store\n",
      "go away you overr street walker nobodi care\n",
      "laugh you act like you have been watch basketb forev its only ben number year moron\n",
      "answ smiley yes no yes are you retard ? meh nope\n",
      "you have becom disgrac to this board\n",
      "have fun die ear fatti your non meat diet is not save you from atherosclerosi\n",
      "hey chris if everyon thought like you we be wear swastika on our ass you littl pussi !\n",
      "we re not the loser but you and this countri are\n",
      "bitch you still did not answer the question what the fuck does this clip has to do with lebron ? answer fuck face\n",
      "zero help the shaq daddi zero help ???? you are an imbecil\n",
      "oh boohoo ! you peopl need to suck it up ! she look hot ! she not nake have you seen what rihanna and all those crappi singer wear ? like it said in the articl if you lazi ass bother to read it this is just for fun she not gonna start dress like that all of sudden she has an incr voic and an incr bodi this is not plea for attent if she want to be notic she would start fight with some stupid celebr and get out of car with no underwear this is tast and fun do not over analyz everyth jeez !\n",
      "you act like you face good team you play like crap against anoth crappi team\n",
      "oh no ! somebodi delet my comment you all know the rul smiley number delet number repost here we smiley # number bill is furious that obama is not get the us more involv in the fuck edup place in the world you know internationalist rubish murdouchebag sign his paycheck fund by internationalist saudi royal aldickw yeah bill get the tea tard stir up the us is not play murdouchebag aldickw agenda like the bushi ron paul was right about you foxtarrd\n",
      "ok you mofo at citi hall how about give it back to the taxpay ?\n",
      "i wonder if you deni on purpo that the only peopl come down against social conserv are homosexu agenda support bill smiley well sherri you ve equat yourself with social conserv before and it seem like your view is that the right of homosexu and their support can be disregard while shriek about the right of social conser so of cour in your mind anyon here who defend gay and their right is go to seem like homosexu agenda support come down on social conserv well billi you ve equat yourself with peopl with homosexu agenda before and it seem like your view is that the right of social conserv can be disregard while shriek about the right of gay so of cour in your mind anyon here who defend social conserv and their right is go to seem like homosexu agenda support come down on homosexu activist\n",
      "fact smiley georgia pass strict immigr polici and most of the latino farm worker left the area vidalia georgia now has over year agricultur job open and they have been abl to fill about number of them in past year all you white real american who are look for work that the latino stole from you where are you ? the job are i vadalia just wait for you or mayb its the fact that you would rather collect unemploy like the rest of the tea klaner you scream you complain and you sit at home in your wife beater and drink beer typic real white tea klan\n",
      "this nigga trash if it aint about shine or clip fuk em harlem stand up\n",
      "yeah need to get some fuck nut before tonight episod\n",
      "take you med go lie down and die\n",
      "when you re as fat as coffey that tend to happen\n",
      "no ike i said earlier sir you are an s\n",
      "i am so proud of you femal not like the one year ! most prostitut in the str everywh even school mari anyth goe terribl peopl here in santarem the polic psp polic are rubbish no secur they want me dead ! yes i am from jhb maria the molunga tell everyon there there is offic fuck alv his name he is pig women hater promot women violanc i hate hi smiley saw him just no smiley these pig do not allow me to log in unto my mail or anyth because these pig want to win tonight\n",
      "you re naiv and do not have basic grasp on biolog\n",
      "fuck spoil rich fuck you have no clue what it is to make dollar go and work for live and see if you burn number k bag hell you wouldnt even be burn number dollar bag that is not art loser\n",
      "have you ever been though hurrican moron ? its lot more than just littl rain i guess when you get hit with the worst case scenario you can be on your own good luck\n",
      "exact littl ole crybabi can call player name like troid but then turn around and call peopl classless or hater biggest hypocrit on these board\n",
      "murder yes christian no you are the bigot spread lie about christian\n",
      "you are preach to the choir babygirl sing it out with sum soul sister ill take the hatmoni and riff that bitch queen\n",
      "you can take the first three letter off your name loser the truth hurt does not it ?\n",
      "get i life bitch !!! avand am oru lekhanam\n",
      "sir you are an idiot you clear do not anyth about corpor law either in the us or here no chairman can fire director that has been elect by the share holder only share holder can dismiss director as regard news corp you idiot murdoch only hold number % of the stock so it would not be to hard for the share holder to vote him off moron do you actual have an mba or degr in econom if not stop make stupid post\n",
      "and what l c ock just slap your fat cowgirl ?\n",
      "evel dick get my vote jame is very creepi look man mr roger look alik plus he whine like littl bitch when janel destroy him in the otev pov comp\n",
      "not realli this man does not seem to do his homework or does not check his articl or simpli does not know very much about histori\n",
      "fuck you all yg heater am read this in number number year ^ ^ yg love\n",
      "no you u k head !!!!!!!!!!!\n",
      "nobodi give shit what you say\n",
      "how are all those tax dollar doing you surviv off that come from dog\n",
      "you are so ignor but allow to come out and share it with us\n",
      "there is no tamil area in srilanka is there any black american area usa mind your own bis hole world hate you as american better stop steel from other if no money eat some shit with tiger\n",
      "you are the swag version of mickey mous laugh\n",
      "how mani of yall would not be this way if you were one of the best in your field and all you ever got was peopl talk shit about you ! had he held up the fight last night what would be said ? they would be talk shit about him i got way too mani issu to deal with to worri about how cocki this dude is or if he should lose all of his money cuz most of you broke paycheck to paycheck live mutha fuck a wish you had date money\n",
      "pseudo how bout not i do what i want to do you know im right that why you had noth to say about it so just crowl back to your littl hole and shut the up okay\n",
      "no makemud i do not like you i do not believ you i do not even believ you still have your manhood between your leg you are phoney made of mud\n",
      "the father must of been nigger that why he isnt around\n",
      "josh you sound like girl serious stop whine yo\n",
      "wow look like two white guy we need to ban all white folk from miami just like you want to ban hiphop memori day on sb this must be obama fault right dumb ass\n",
      "wrong again look it up fool the list of sb winner hall of fame qbs at the helm is not endless not even close you boob quit talk out of your ass scatterbrain is good name for you afix your iq to the end of it is also nice touch\n",
      "hey nil you are silent about muslim kill thousand of muslim includ the split of children skull you quiet because you ca not blame jew for this ? what piti your concern for human does not extend to this murder behaviour on grand scale come out of the closet and say someth otherwi you might be call hypocrit come on nil you brave man who enjoy kill anim with your number come on gir man grow spine\n",
      "mani sri lankan talk shit as usual we must build sri lanka we must work togeth when will you understand that ??\n",
      "laugh why so mad at the white man because we all know are white person ur self dumabss are not the first person to do this you dont understand how dumb look\n",
      "bytch you sound stupid as fuck !!! first off if those were my got damn kid not smiley i don have any kid but if i did i be call my girlfriend up and let her know that my kid would be refer to her as mommi shannon from now on and if the bytch didn like it too motha fuck bad if her talentless a$$ didn have to pay for ! ck she wouldn be having all these fuck issu in the first place but appar her same sex game must be aw wack because i ve notic that she never keep any man she ever been with interest in her for more than few year then she either get dump or cheat on and truth be told shannon de lima is number time finer than lo is and this whore think she can stand up and walk on stage and act as if her pussi just gleamin like the damn day she was born aint no man gonna touch that stanki fish ass sandwich no way !\n",
      "were you watch the game ??? damn what moron\n",
      "and gibbo still play wow by the sound of it take your mother titti out of your mouth and grab hanki to wipe the shit dribbl down your chin\n",
      "the easi part about walker piss me off is he arbitrili take away bargain for right then sit back while peopl like you who know noth about union do his dirti work for him why enjoy being pawn ?\n",
      "how about you and your famili drop dead instead ?\n",
      "oh my god you are dumber than box of hair\n",
      "ive got news for you mari ed littl lord wimpleton plea dont smack my leg again you big bulli the guy that kid steal sweet off milliband will never get the top job so all your effort here are wast go and preach to the convert smiley\n",
      "ur all peni sucker\n",
      "your pathet attempt at joke belittl the horrif violenc done to anoth person while reinforc the stereotyp that conserv are racist or mayb you re liber tri to make conserv look bad congratul on being piec of shit there is no indic that this woman die because of the color of her ski smiley the color of her killer has no bear on the beast natur of their crime\n",
      "<strong><a>you are mean spirit azzhol poster have ask you to stop this !!!! no wonder everyon on this blog hate you !\n",
      "pseudo pseudo your mother a whore trebec\n",
      "hey right winger just date efax immigr is not wedg issu it a polici issu get clue moron\n",
      "you ll be too busi watch my littl poni to riot you freak\n",
      "oh you fuck tea !\n",
      "aww its ok you too young for tattoo laugh having tattoo of your idol is not gay i have my dad and grandpa tattoo on me is that gay nope your idiot and immatur littl bitch\n",
      "hey fuck asshol just wonder do you have any good yarn about beat the shit out of any women late ? we re all die to hear\n",
      "moron statement pea brain there is no pledg to be respect to the command in chief i was still in am retir when that trash just about starv us out of the militari xe number x number xa number xe number x number xa date at was after vote for him clueless libtard\n",
      "dang i have sister ? dat new to me ur wife still want big black miami dic laugh and it noth can do bout it she want dat number stick up in her lmao laugh she goe hard\n",
      "how creativ maggot you are too funni i suggest read some book to expand your vocabulari have wonder day red leg\n",
      "by the way leidiot is jerk\n",
      "send me ur sister so i can fuck her vergin ass ahaaaaaaaaa\n",
      "as is your mother who is the beastial whore lighten up it comedi !! bwaaaaaaaaaaaaaaaaaahh !!\n",
      "ironbottom which troll hole did you spew from ?\n",
      "that would be your fuck career actual\n",
      "i keep forget how profound stupid this woman is until she open her mouth or in this case get hold of keyboard\n",
      "i am go to hate all over this page because im homophob fuck off lesbian good thing that bitch die one less les smiley in the work\n",
      "parker had more point assist rebound then westbrook despit take less shot how did westbrook do terrif job on parker ? laugh thunder fan are not very bright\n",
      "you ? will die\n",
      "are you blind it say alberto del rio\n",
      "because you are spur pig !\n",
      "i a liber moron i smell caus i do not bath as media matter pay my meager check i slept in some occupi wall street tent doing coke and get pork by michael moor i a drone and live in my mother basement my only out is post stupid shit here on fox new smiley i ve learn cut & past as my poor logic tell my inbr brain that in doing so i will convinc all conserv to realli see thing my way and follow my lead i own an obama pictur that hang over my bed i also own and sleep with my very own inflat obama doll which i hug & squeez and love long time\n",
      "okc bandwagon year just kid sinc year get off of kobe dick\n",
      "you are asshol for put addict down !!! why bash us !!! at least we have an excus wat urz jackass !!!!!!!!!!!\n",
      "so those die in those church were not innoc ? tambuw i dont blame i know from time that you are bh too northern he goat better go and settl your problem with polic all the noney you collect from farouk you go vomit am oooo foolish and very ug monkey\n",
      "tahaaaa !!!!! yo booti hurt fuck boi ?? ! ? ! ? it aint my fault n ur countri poor as fuck ! laugh i graduat from kathleen high school lakeland fl ! shoutsout number ray lewi and i go number fullsail univ orlando fl pussyyyy !!!! music engin video prod #i\n",
      "aw da poor amber is out of clever retort so he resort to number year old parrot tactic laugh !! smiley you ve now regress beyond what that number year old bulli did to you ! bravo !! perhap we can regress you to the point that you spit up on youself like an infant ?\n",
      "is not it fun to tri and cover up evil you bastard !\n",
      "when you have four ring alreadi you realli do not care when onlin troll label you as bore\n",
      "yeah fuck teja i leav you all good peopl with willi roll me up & smoke me when i die htt smiley www youtub com watch ? nrh number jhuc number r number\n",
      "well then the op would learn that she cannot diagno herself with asperg and that self diagnosi is bad thing lead to peopl whom act stupid because they think they have some disord disea that in actual they do not\n",
      "naw the show is for littl girl if you were one i understand why you watch the show sinc you re not i do not weirdo\n",
      "hahahahahahahahath fuck dyke deserv it !!!!!!!!!!!!!!! bit of karmic payback foral the degeneraci & misandri that lesbo feminist have inflictedupon the western world that degen dyke bitch that still aliv should not subject the rest of us to her{ ? } disgust emot diarrhea over her{ ? } fat dead land whale our world would be far better off were it not pollut by degen lesbo feminist piec of shit !!!!!!!!!!!!!!\n",
      "eat shit and die andrew\n",
      "you know what the suck is your butcher of the english languag go to school damnit\n",
      "democommi smiley your next origin thought will be your first coward\n",
      "four minut ? chimp out again he was shot in the one minut rang from when georg hung up prove it thug\n",
      "thank for confirm that conserv men only see their women as pair of tit and an azz\n",
      "ah project my favorit of the defen mechan no my dear i am not women but you are singular women is plural which of cour use your particular brand of logic which is known to most peopl as stupid mean that you have had help and yet still did not get very far in life even with all of the help you have gotten that has to sting you re good troll though bound back and forth between cnn and fox messag board i heard rumor that some of you get paid better up your comment count if you want to cash in howev\n",
      "thank you ! you just prove to everyon here that you possess an iq of no higher than number\n",
      "yourmamatoo so number one of your illit relat i guess\n",
      "sorri are you lost littl boy the men are talk plea take your whine el were and notic how no bodi sad anyth about cod\n",
      "toler ? for dictat ? i never said such thing and i never would you bring shame upon yourself make excus for tyrant and murder\n",
      "are you like number ? that my only explan\n",
      "fuck this server mod and admin and staff are corrupt fuck it and fuck anyon who play here i got ban for say welcom to the owner fuck\n",
      "ooooh that jungl love they give us is sweet !!! yepper ! you were born and rai in the jungl by ape and monkey ! when you go to the zoo the first place you visit is the monkey section ! rememb tarzan the apeboy ? you are ape and monkey what was his favorit pet the monkey ! rememb that white bitch that live with gorilla for number year ? huh ? her name was dian fossey zoologist zoophilia what about the white bitch who was sex her monkey that end up tear her face apart ? rememb that ? cut the hair off monk smiley you will get honkey i thin lip flat red ass slump over big ear fuck i stinch odor and are easili train ! now go back to the jungl with your monkey ape famili ! loljungl love you got that right ! all caucasoid monkey love ape and gorilla !!! beastial number sexual relat between person and an anim includ intercour masturb cunnilingus frottag rub anal penetr or having one genit lick by an anim number synonym for zoophilia but distinct is sometim made between bestial sexual act with anim and zoophilia sexual arous from contact with anim bye monkey boy or tarzan the apeboy !\n",
      "fli away gay pusssi fli away\n",
      "while your syntax is fine your spell is drug addl\n",
      "speak of being inbr how your mother doing ?\n",
      "wait you said though that your countri was the nice one in the world how bout you take that food from your dog and help feed the popul of the world because i thought america was great right they alway tri to use theor ethic appar not because loser like you are selfish andignor\n",
      "sarcasm ? learn how to spell you moron\n",
      "you are neanderth\n",
      "you have dream too i heard your sister gave you handjob as symbol of piti\n",
      "peopl sell their grandmoth for twenti buck and you think they care about your feel being hurt by post your mugshot on the internet ? realli think about it they sell medic to die sick that made up out of chalk and dirt and they do not lose sleep over it sudden we expect bunch of dotc um a number hole to do what right get over it\n",
      "how arrog you are\n",
      "obfan why are you on this board ?? if you do not know that the senat bring up the bill amend it and then vote on it you realli should be on the cartoon board not here but do not feel bad most peopl that support ob are just as dim as you are\n",
      "fac smiley radic comic creator is written with real basic you have argu against this fact plea go to the project page on github and see for yourself fac smiley lunduk has now consum $ year worth of time has beg for addit money for hardwar and has not deliv on his promi as of yet fac smiley you think that i am an ignor hillbilli though you frequent insert symbol into your respon and use improp numerolog when describ number you habitu forfeit grammar and partial form word in addit to that your stream of conscious is collect of poor construct sentenc fragment in short your english suck dick fac smiley you think that the internet is the only place where you have freedom of speech ? i on the internet and i in america and i just said whatev the fuck i want to i implor you to argu these fact direct\n",
      "i rather see you get lynch !\n",
      "you need help you are old and need to take your med ya old coot\n",
      "get the fuck out of my comment section you samurai jack lookin mutha fuck a\n",
      "i meant claim fuck boi bwhahhahahaha\n",
      "nba ref need to get off their high hor fuck scum\n",
      "its kind of frighten know dbag like you exist\n",
      "jean smart you are brainless tool we conserv wonder how you murder who support abort for any reason live with yourself i do not believ in abort but i could almost get there if you were the one being abort\n",
      "damn that negga da white grill fuck up\n",
      "your mum is bloodi wanker !\n",
      "oh man you and your kind are what wrong with this world i most laugh but when i see for myself that there are actual peopl like you out there i piti our speci\n",
      "you re not very bright are you ?\n",
      "what is your evid that she a pain bad actress ? do you know her from anyth el other than <i>twilight< i> ? why do not you hunker on down to imdb and see what el she done then come back and say someth as stupid as what you said\n",
      "lame congress idiot or tyrant debat bull shit !!! there are no terrorist except those who invent terror mossad and the militari intellig go watch the whistl blower at w dormantidea o and you will see this congress is complet out of touch or with the tyrant bought and paid for this is no joke number act that are equal to hitler enabl act of year and you debat !!!!!!!! what the fck are you debat !!!!! fckng wake up idiot\n",
      "you have no idea that the age so down run ya mouth bitch nigga\n",
      "lmao oh yeah ? plea tell me how the fuck i be rig the poll faggot mayb if your ass was not so dumb youd think of way to get peopl to vote your shit ti music number number here two that have appar been workin smiley make an event on facebook with direct to vote messag the onlin peopl on facebook and person tell them to vote come on buddi put your brain to work mayb you can be char sheen too smh\n",
      "mayn shut the fuck up hoe you hatin heffa are just mad that jonesi can see her cooch and does not have to use mirror tie to her foot to see how to wash the motha fuck a !!!! you fat ug stank weav wearin bytch are got damn mess !!! now do not get me wrong jonesi need better stylist for her shyt too but she still look better than the major of you wack a$$ fat hoe on here\n",
      "mr king is not it about time you either grow pair of ball or join the democrat who will love pussi cat like you\n",
      "if it were your mom sister and wife it would be only one person !\n",
      "second come of sherlock holm you sure are not !\n",
      "what an ass you are funni i see lot more of you nut in car then i ever have of pilot in pane\n",
      "yeah like these ignor peopl are so silli they realli think i hurt plea this is not real life do not confus me for your mom because she singl as my mom is marri to my dad and my ethnic background is not black american i am an african two differ cultur the african do not put down their women because they date non bw that the differ between them and black american men even if they do date out they will catch hell if they shit on african women get it togeth you ignor idiot carol i am tell you this not direct at you laugh\n",
      "serious dude fuck you i catch up on the episod i miss and now you ve ruin the next one for me think before post on the review of the previous episod next time asshol\n",
      "you say you believ in truth but religion is not truth its about as much the truth as fairyt religion is load of shit !!\n",
      "say nuff said make you an offici a$$hol nuff said\n",
      "talk about stupid comment you dont know where to start ? start somewh anywh my mother open pharmaci in number day at age number number month ago ooooo the obama boogeyman made it soooooo hard you are whini littl pion\n",
      "your mom hungri for sausag\n",
      "trumbo tsk tsk tsk speak of fail\n",
      "you are look for attent because you were dump by one of your relat and feel lone inbr is not all it is crack up to be is it ?\n",
      "actual i do not think she expect call she is mere prove point your lack of comprehen make you look like the ing idiot\n",
      "walli the bigot and cmorri the racist the new face of ignor for the new south no matter how often they wash their black sheet it will still carri the smell good luck guy and all those like you god has special section for you to sit in when you arriv and your rest spot\n",
      "pseudo :disqus that what i find funni how peopl think that because i believ in god that mean that i am suppo to just stand there and take whatev peopl hand to me no i am not out indulg in petti argument or live any kind way if someth were to come my way it would be because they are look to caus me harm my bibl tell me to protect my annoint with my life that why i feel comfort call you uncl tom you are the nigga who act and think just as white folk would have you to they use the christian faith to make brother and sister submit what peopl don mention is that that is why they did not want slave learn to read and write they might ve read that word and coup ! it did not happen because god has much bigger plan for peopl who have misus his teach\n",
      "so a real bitch can take dis real polish hotdog i got for\n",
      "dntchu go suck dick sme whrr el hoe\n",
      "learn read comprehen sure urlach is above averag mayb even great as i said he the dick butkus of your time in respon to the it take team comment i just add that it is further proof that the bear suck as for chicago and polit do you realli need to be told about the chicago way ? it influenc everyth even your crappi organ call the chicago bear\n",
      "dickhead will just copi and use it do not bother we know rooster is all mouth and no ball\n",
      "it trayvon you moron if you re go to trash talk dead kid at least have the class to get his name right not that it matter to you\n",
      "quit troll yesterday you heat fan came in here talk all kind of smack truth be told the heat would lose to both the thunder and spur\n",
      "yeah co mmj patient is fuck tard one of the number shop my ass\n",
      "with some big name come up chel shit tt are so sure next epl or ucl is in their bag its so damn hilari look at your pathet team and the way you play footbal with new player your tradit is not go to chang same filthi park the bus cum so call counter attack footbal you are the luckiest this time it happen only once in while and it wo not favour you anymor because you do not have that qualiti so do not ride on the wagon so high that you fall at your filthi buttt !!!\n",
      "realli ? i bet you are not make six figur like this guy ? are you that red head douchebag guy who cohost his diggnat show ? because that was pretti douchey comment\n",
      "malia go take an intellig test so you can see in black and white how room temp you are then get rid of the dog now if for any reason you cannot do these two thing then start spell your name the right way i i t\n",
      "jimmi produc anyth of any valu that anyon want or need and you ll find someon will to trade with you for someth you want or need it very simpl tip of the da smiley whine is worthless\n",
      "yeah like i let you have the last say loser smiley and btw you re bad stalk i do not give phuck about pitbul smiley\n",
      "say it is not so nbc caught edit tape again they has been edit stori for year to fit their fleabagg viewpoint for year now it is just that no one ever call them on it !!!! you all have to rememb that msnbc & nbc & all the rest of the fleabagg libtard network are noth but bunch of fuck hack !!! i just ca not wait until these fleabagg are off the air perman there are number fleabagg network compar to the one conserv network which is fox !!!! fox network has been beat all the fleabagg network in the nielsen rate for the last number year laugh ! laugh ! laugh ! you stupid fleabagg libtard will never learn will you !!!!!!!!! you fleabagg network are lose viewership because of your made up news & even other fleabagg know the bullshlt you are up to & they do not appreci it !!!!\n",
      "you seem to be one of those turd minion i see when i ve been play diablo\n",
      "<div class forum item forum repli ><div class forum item descript ><p>wonder what he was doing to get pick up smiley the alabama law is basic in place to pick up drunk idiot who is out look for fight < p>< div>< div>\n",
      "are you in love with me ? why are you repli to me with this shit ? you said this was not news i disagr now sudden you think i a conspiraci theorist and ron paul groupi ? are you on any medic right now ?\n",
      "im play colleg ball what you number sit on worldstar frustrat with yo life lame im laugh fuck nigga like you everyday number\n",
      "you sound like prude\n",
      "that is total ignor way of look at histori luckili most american are educ to think differ place number st centuri moral and ethic on the past is wrong no matter what time period you speak of learn about past mistak and honor peopl who fought for what they thought was right and were american that have made this countri is not wrong wrong wrong we all come from ancestor who did thing in the past that we would think of as indescrib today the white supremisct and redneck comment just make you look as dumb as other racist\n",
      "okay you made your point hang around longer mean you are flirt with the gay peopl here\n",
      "her fuck trap should be sewn shut with very stout thread this pos barbara espinosa\n",
      "laugh ! laugh ! ho ! ho ! he ! he ! jimmybhoy number harryboy number same old troll laugh ! laugh ! ho ! ho ! he ! he ! roy tick tock\n",
      "god get rid of the shit ti tattoo and pierc anoth decent girl ruin ! and she not even from la and got it tat laugh what fuck loser !\n",
      "if only your mind was coupl of molecul less simpl so you could be liter enough to spell singl simpl word correct !\n",
      "pseudo smiley you got that right afro american nigga & we do not have respect for nigga who is still pu cee to the clan from the south so they make up an excus to destroy one anoth & ca not face the klan to get reveng\n",
      "alenlemon anyon intellig read your comment could only come to the conclus that you have mental issu to say the least either that or you re simpli bias russian\n",
      "no i am not but for you to go threw all that troubl to creat name say that im gay you must be fuke fagot who has no life and want attent get life !!!\n",
      "i do not understand your comment that unclo can you find any issu in my logic ? but i have lot problem in your gover logic what are you doing ? hide your head in sand as ostrich ? why not show your logic and brain ?\n",
      "bitch you digrac the whole nation now wait for the whole pakistan to bombard you with their precious comment ! fuck fraud !\n",
      "you need to leav your hole sometim\n",
      "ref suck suck suck\n",
      "hey twinni how are you ?\n",
      "i still dont see why half of you nigga click on everi video that he post on wshh just to hate if he so wack why the fuck you even click the video #base\n",
      "thank you speak the fuck truth real nigga dont gotta rap about work if you got skill fuck outa here nigga don play that hot shit in the hood\n",
      "did you stop molest children ?\n",
      "why did your parent wish you were adopt ?\n",
      "so you get your amaz inform from the cia ? wow you realli are connect !\n",
      "idiot nayar you are mother fuck you are say attack on shri harmandir sahib was right action this show you negat think about sikh communiti all sik are agr with build memori that why any sikh organi does not oppo you have no concern with issu of punjab the word you use in this articl is very rude and this show your hate about sikh communiti you are bark dog we do not care you\n",
      "i tell you my state because you crazi fuck are insan i do not want to be hunt down and burn at the stake\n",
      "how does troll for obama pay ? pretti well ? what ? no pay ? you re an idiot do not breed\n",
      "pseudo pseudo you are the idiot fresh number deff and probabl friend of trey sinc you never post here before this storm and everyon el who is offend by this inhuman loser are regular poster so you can come here and tell us how to think ? your the real loser along with chris and trey\n",
      "ball number real where are you with your miami ay\n",
      "you must be one of the dumb one here let me explain it to you when you have an inflat cathet insid you pull it out will caus perman injuri there is noth for this man to get over he been damag and need to be made whole again pay the man and you you need to go out to your local dollar store and buy yourself new brain the one you have current does not seem to be work\n",
      "umm debbi is not #hopeandalga bumper sticker ? get the heii off my comput you femm gogu\n",
      "pseudo i on aac then ya dumb fuck\n",
      "pseudo :disqus you cnn censor my pseudo :disqus littl more plea\n",
      "you are soooo intelig white girl tell us black peopl more about ourselves im sure know more about us then we do\n",
      "laugh you re so cool what are you date english teacher\n",
      "and wor yet you are ug and old\n",
      "when your speci final evolv then we can talk until then you are noth more than common pet\n",
      "very sorri i mention it just keep bitch here where you are sure it will amount to noth\n",
      "tell me how the bridg can be fix oh you ca not get off your soapbox retard\n",
      "you either know that is lie or you have not check\n",
      "you do know you are an asshol and start all the shit with him you jew have been doing the same for year ban togeth to the detriment of decent peopl anoth reason most in the world would cheer for the nazi today smiley\n",
      "dude you realli have some serious issu read what you are post it worrisom\n",
      "those engin are for mobil processor as in for iphon htt smiley www itproport com year number number appl year engin work iphon ipad processor you are clueless for not read before you post crap smiley\n",
      "are you high right now ? no other explan for your useless comment\n",
      "appar you were in numb nut land during the primari when newt gingrich propo trash the child labor law\n",
      "i think this bitch need to get checkup by her doctor real fuck soon because she open her asshol with no effort\n",
      "grrrrrrrrrrrrrrrrrrrrrrrrrrrrrrrrrrrrrrrrrrrrrrrrrrrrrrrrrrrrrrrrrrrrrrrrrrrr i hate that mother fuck her dad need to be burn at stake\n",
      "listen here you moron home school is better especi through comput i go to ecot though it may be my first and last year caus i a senior does not make me social reject !!!! in fact my friend that i ve made are not social reject either !!!! i get better grade then i ever have in public school so stick that in your juic box and suck it mr i think i know it all !!!!!\n",
      "nice ass ! gotta let me go deep insid doggi style ! ima stick so hard wit my number inch that you gonna be bleed for week out dat pussi say you on your period\n",
      "why are you turn this fun event into race thing ? miser fuck\n",
      "poor delud psychopath news flash marriag is unnatur it is construct of be that have step out of natur for the most part construct vehicl technolog all unnatur if you think about it now if you re talk about the pair off into coupl by anim in natur sure they do that but it has never been about properti right for them like it use to be for human and there are same sex coupl in natur as well sinc it about make life easier in group than it is by yourself so by that fact and the logic that goe with it gay marriag is as natur as hetero marriag you fuck you never have reason leg to stand on it alway your invi sky fairi and some bull shit some cave dweller spew year year ago step into the age of enlighten you might like it\n",
      "bet he could get your mother ?\n",
      "some of the comment i read here are so so lame white peopl just want the world to be so fair now but over the cour of their hundr and hundr of year of opress death and fear it was ok american white peopl hung peopl cut off their privat part and took pictur with their kid and famili around these dead bodi sing in the wind truli sick mind stat smiley your kid they creat trick and illeg law and rule to get ahead in america for hundr of year smiley they rape and kill destori famili and now because person make choic to go to all black school where teacher ca see black student for themselves or get interview when white does not its rever racism white peopl until you live anoth histori stop cri and get off your high hor !\n",
      "pseudo smiley you afro american nigga only & not black from differ cultur\n",
      "whaaaa whaaaaaa when you lose intellectu you freak either blame bush or name call newt went in debt few mill but the god damn comun organ sunk us down number trillion you dick are piti\n",
      "do not go chang your mind like some fuck pms ing girl yeah this is beauti not sexist\n",
      "serious get some rest you are deliri\n",
      "oh here you are again die for your own good\n",
      "what is your point white troll ???\n",
      "coupl of greedi non appreci hos !\n",
      "rightasshol that why all those peopl were ki ed because of your calm effect i ss on obama\n",
      "he hole i a leaf fan and i know they are crap you did not read what i said today you hate them tomorrow you love them what are you number year old with the go take crap does your mom know you are on the comput and not in pre school get beat up hole does not sound so good does it\n",
      "peopl like you are the reason the economi is fail\n",
      "why would you talk about mose like that ? slap yourself right fuck meow !!\n"
     ]
    }
   ],
   "source": [
    "for sentence in X_wrong:\n",
    "    print(sentence)"
   ]
  },
  {
   "cell_type": "markdown",
   "metadata": {},
   "source": [
    "## Classifiers"
   ]
  },
  {
   "cell_type": "code",
   "execution_count": 576,
   "metadata": {
    "collapsed": false
   },
   "outputs": [],
   "source": [
    "from sklearn.naive_bayes import MultinomialNB\n",
    "from sklearn.linear_model import LogisticRegression\n",
    "from sklearn.svm import SVC\n",
    "from sklearn.pipeline import Pipeline\n",
    "\n",
    "text_clf = Pipeline([('vect', CountVectorizer()),\n",
    "                    ('tfidf', TfidfTransformer()),\n",
    "                    ('clf', LogisticRegression())\n",
    "                    ])\n",
    "                    \n",
    "_ = text_clf.fit(X_train, y_train)\n",
    "predicted = text_clf.predict(X_test)"
   ]
  },
  {
   "cell_type": "code",
   "execution_count": 360,
   "metadata": {
    "collapsed": false
   },
   "outputs": [
    {
     "name": "stdout",
     "output_type": "stream",
     "text": [
      "             precision    recall  f1-score   support\n",
      "\n",
      "          0       0.79      0.96      0.87      1211\n",
      "          1       0.83      0.45      0.58       555\n",
      "\n",
      "avg / total       0.80      0.80      0.78      1766\n",
      "\n"
     ]
    }
   ],
   "source": [
    "from sklearn import metrics\n",
    "print(metrics.classification_report(y_test, predicted))"
   ]
  },
  {
   "cell_type": "markdown",
   "metadata": {},
   "source": [
    "### NAIVE-BAYES : ACCURACY = 0.78"
   ]
  },
  {
   "cell_type": "markdown",
   "metadata": {},
   "source": [
    "### LOGISTIC REGRESSION = 0.80"
   ]
  },
  {
   "cell_type": "markdown",
   "metadata": {
    "collapsed": true
   },
   "source": [
    "## Adding general Features"
   ]
  },
  {
   "cell_type": "code",
   "execution_count": 6,
   "metadata": {
    "collapsed": false
   },
   "outputs": [],
   "source": [
    "class BadWordCounter():\n",
    "    def __init__(self):\n",
    "        with open(\"my_badlist.txt\") as f:\n",
    "            badwords = [l.strip() for l in f.readlines()]\n",
    "        self.badwords_ = badwords\n",
    "\n",
    "    def get_feature_names(self):\n",
    "        return np.array(['n_words', 'n_chars', 'allcaps', 'max_len',\n",
    "            'mean_len', '@', '!', 'spaces', 'bad_ratio', 'n_bad',\n",
    "            'capsratio'])\n",
    "\n",
    "    def fit(self, documents, y=None):\n",
    "        return self\n",
    "\n",
    "    def transform(self, documents):\n",
    "        ## some handcrafted features!\n",
    "        n_words = [len(c.split()) for c in documents]\n",
    "        n_chars = [len(c) for c in documents]\n",
    "        # number of uppercase words\n",
    "        allcaps = [np.sum([w.isupper() for w in comment.split()])\n",
    "               for comment in documents]\n",
    "        # longest word\n",
    "        max_word_len = [np.max([len(w) for w in c.split()]) for c in documents]\n",
    "        # average word length\n",
    "        mean_word_len = [np.mean([len(w) for w in c.split()])\n",
    "                                            for c in documents]\n",
    "        # number of google badwords:\n",
    "        n_bad = [np.sum([c.lower().count(w) for w in self.badwords_])\n",
    "                                                for c in documents]\n",
    "        exclamation = [c.count(\"!\") for c in documents]\n",
    "        addressing = [c.count(\"@\") for c in documents]\n",
    "        spaces = [c.count(\" \") for c in documents]\n",
    "\n",
    "        allcaps_ratio = np.array(allcaps) / np.array(n_words, dtype=np.float)\n",
    "        bad_ratio = np.array(n_bad) / np.array(n_words, dtype=np.float)\n",
    "\n",
    "        return np.array([n_words, n_chars, allcaps, max_word_len,\n",
    "            mean_word_len, exclamation, addressing, spaces, bad_ratio, n_bad,\n",
    "            allcaps_ratio]).T"
   ]
  },
  {
   "cell_type": "code",
   "execution_count": 5,
   "metadata": {
    "collapsed": true
   },
   "outputs": [],
   "source": [
    "bad_counter = BadWordCounter()"
   ]
  },
  {
   "cell_type": "code",
   "execution_count": 6,
   "metadata": {
    "collapsed": false
   },
   "outputs": [],
   "source": [
    "features = bad_counter.transform(X.content)"
   ]
  },
  {
   "cell_type": "code",
   "execution_count": 7,
   "metadata": {
    "collapsed": false
   },
   "outputs": [
    {
     "data": {
      "text/plain": [
       "(4415, 11)"
      ]
     },
     "execution_count": 7,
     "metadata": {},
     "output_type": "execute_result"
    }
   ],
   "source": [
    "features.shape"
   ]
  },
  {
   "cell_type": "code",
   "execution_count": 8,
   "metadata": {
    "collapsed": false
   },
   "outputs": [],
   "source": [
    "from sklearn.linear_model import LinearRegression\n",
    "from sklearn.svm import SVC\n",
    "from sklearn import cross_validation\n",
    "from sklearn.cross_validation import cross_val_score"
   ]
  },
  {
   "cell_type": "code",
   "execution_count": 22,
   "metadata": {
    "collapsed": true
   },
   "outputs": [],
   "source": [
    "X_train, X_test, y_train, y_test = cross_validation.train_test_split(features, y, test_size=0.4, random_state=0)"
   ]
  },
  {
   "cell_type": "code",
   "execution_count": null,
   "metadata": {
    "collapsed": true
   },
   "outputs": [],
   "source": [
    "X_train.shape, X_test.shape"
   ]
  },
  {
   "cell_type": "code",
   "execution_count": null,
   "metadata": {
    "collapsed": false
   },
   "outputs": [],
   "source": [
    "clf_1 = SVC(kernel='linear', C=1)\n",
    "clf_2 = LinearRegression()\n",
    "cross_validation.cross_val_score(clf_1, features, y, cv=5)"
   ]
  },
  {
   "cell_type": "code",
   "execution_count": null,
   "metadata": {
    "collapsed": true
   },
   "outputs": [],
   "source": []
  }
 ],
 "metadata": {
  "kernelspec": {
   "display_name": "Python 3",
   "language": "python",
   "name": "python3"
  },
  "language_info": {
   "codemirror_mode": {
    "name": "ipython",
    "version": 3
   },
   "file_extension": ".py",
   "mimetype": "text/x-python",
   "name": "python",
   "nbconvert_exporter": "python",
   "pygments_lexer": "ipython3",
   "version": "3.5.1"
  }
 },
 "nbformat": 4,
 "nbformat_minor": 0
}
